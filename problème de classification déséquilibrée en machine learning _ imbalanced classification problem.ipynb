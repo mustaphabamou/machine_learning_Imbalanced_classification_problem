{
 "cells": [
  {
   "cell_type": "markdown",
   "metadata": {},
   "source": [
    "                         \n",
    "<h1>Traitement et resolution du problème de classification déséquilibrée en machine learning \n",
    "    (Imbalanced classification problem)<h1>"
   ]
  },
  {
   "cell_type": "code",
   "execution_count": 166,
   "metadata": {},
   "outputs": [],
   "source": [
    "churn = read.csv2(\"Churn.csv\",header=TRUE)"
   ]
  },
  {
   "cell_type": "code",
   "execution_count": 167,
   "metadata": {},
   "outputs": [
    {
     "name": "stdout",
     "output_type": "stream",
     "text": [
      "'data.frame':\t7043 obs. of  21 variables:\n",
      " $ customerID      : Factor w/ 7043 levels \"0002-ORFBO\",\"0003-MKNFE\",..: 5376 3963 2565 5536 6512 6552 1003 4771 5605 4535 ...\n",
      " $ gender          : Factor w/ 2 levels \"Female\",\"Male\": 1 2 2 2 1 1 2 1 1 2 ...\n",
      " $ SeniorCitizen   : int  0 0 0 0 0 0 0 0 0 0 ...\n",
      " $ Partner         : Factor w/ 2 levels \"No\",\"Yes\": 2 1 1 1 1 1 1 1 2 1 ...\n",
      " $ Dependents      : Factor w/ 2 levels \"No\",\"Yes\": 1 1 1 1 1 1 2 1 1 2 ...\n",
      " $ tenure          : int  1 34 2 45 2 8 22 10 28 62 ...\n",
      " $ PhoneService    : Factor w/ 2 levels \"No\",\"Yes\": 1 2 2 1 2 2 2 1 2 2 ...\n",
      " $ MultipleLines   : Factor w/ 3 levels \"No\",\"No phone service\",..: 2 1 1 2 1 3 3 2 3 1 ...\n",
      " $ InternetService : Factor w/ 3 levels \"DSL\",\"Fiber optic\",..: 1 1 1 1 2 2 2 1 2 1 ...\n",
      " $ OnlineSecurity  : Factor w/ 3 levels \"No\",\"No internet service\",..: 1 3 3 3 1 1 1 3 1 3 ...\n",
      " $ OnlineBackup    : Factor w/ 3 levels \"No\",\"No internet service\",..: 3 1 3 1 1 1 3 1 1 3 ...\n",
      " $ DeviceProtection: Factor w/ 3 levels \"No\",\"No internet service\",..: 1 3 1 3 1 3 1 1 3 1 ...\n",
      " $ TechSupport     : Factor w/ 3 levels \"No\",\"No internet service\",..: 1 1 1 3 1 1 1 1 3 1 ...\n",
      " $ StreamingTV     : Factor w/ 3 levels \"No\",\"No internet service\",..: 1 1 1 1 1 3 3 1 3 1 ...\n",
      " $ StreamingMovies : Factor w/ 3 levels \"No\",\"No internet service\",..: 1 1 1 1 1 3 1 1 3 1 ...\n",
      " $ Contract        : Factor w/ 3 levels \"Month-to-month\",..: 1 2 1 2 1 1 1 1 1 2 ...\n",
      " $ PaperlessBilling: Factor w/ 2 levels \"No\",\"Yes\": 2 1 2 1 2 2 2 1 2 1 ...\n",
      " $ PaymentMethod   : Factor w/ 4 levels \"Bank transfer (automatic)\",..: 3 4 4 1 3 3 2 4 3 1 ...\n",
      " $ MonthlyCharges  : num  29.9 57 53.9 42.3 70.7 ...\n",
      " $ TotalCharges    : num  29.9 1889.5 108.2 1840.8 151.7 ...\n",
      " $ Churn           : Factor w/ 2 levels \"No\",\"Yes\": 1 1 2 1 2 2 1 1 2 1 ...\n"
     ]
    }
   ],
   "source": [
    "str(churn)"
   ]
  },
  {
   "cell_type": "code",
   "execution_count": 168,
   "metadata": {},
   "outputs": [
    {
     "data": {
      "text/plain": [
       "      customerID      gender     SeniorCitizen    Partner    Dependents\n",
       " 0002-ORFBO:   1   Female:3488   Min.   :0.0000   No :3641   No :4933  \n",
       " 0003-MKNFE:   1   Male  :3555   1st Qu.:0.0000   Yes:3402   Yes:2110  \n",
       " 0004-TLHLJ:   1                 Median :0.0000                        \n",
       " 0011-IGKFF:   1                 Mean   :0.1621                        \n",
       " 0013-EXCHZ:   1                 3rd Qu.:0.0000                        \n",
       " 0013-MHZWF:   1                 Max.   :1.0000                        \n",
       " (Other)   :7037                                                       \n",
       "     tenure      PhoneService          MultipleLines     InternetService\n",
       " Min.   : 0.00   No : 682     No              :3390   DSL        :2421  \n",
       " 1st Qu.: 9.00   Yes:6361     No phone service: 682   Fiber optic:3096  \n",
       " Median :29.00                Yes             :2971   No         :1526  \n",
       " Mean   :32.37                                                          \n",
       " 3rd Qu.:55.00                                                          \n",
       " Max.   :72.00                                                          \n",
       "                                                                        \n",
       "             OnlineSecurity              OnlineBackup \n",
       " No                 :3498   No                 :3088  \n",
       " No internet service:1526   No internet service:1526  \n",
       " Yes                :2019   Yes                :2429  \n",
       "                                                      \n",
       "                                                      \n",
       "                                                      \n",
       "                                                      \n",
       "            DeviceProtection              TechSupport  \n",
       " No                 :3095    No                 :3473  \n",
       " No internet service:1526    No internet service:1526  \n",
       " Yes                :2422    Yes                :2044  \n",
       "                                                       \n",
       "                                                       \n",
       "                                                       \n",
       "                                                       \n",
       "              StreamingTV              StreamingMovies           Contract   \n",
       " No                 :2810   No                 :2785   Month-to-month:3875  \n",
       " No internet service:1526   No internet service:1526   One year      :1473  \n",
       " Yes                :2707   Yes                :2732   Two year      :1695  \n",
       "                                                                            \n",
       "                                                                            \n",
       "                                                                            \n",
       "                                                                            \n",
       " PaperlessBilling                   PaymentMethod  MonthlyCharges  \n",
       " No :2872         Bank transfer (automatic):1544   Min.   : 18.25  \n",
       " Yes:4171         Credit card (automatic)  :1522   1st Qu.: 35.50  \n",
       "                  Electronic check         :2365   Median : 70.35  \n",
       "                  Mailed check             :1612   Mean   : 64.76  \n",
       "                                                   3rd Qu.: 89.85  \n",
       "                                                   Max.   :118.75  \n",
       "                                                                   \n",
       "  TotalCharges    Churn     \n",
       " Min.   :  18.8   No :5174  \n",
       " 1st Qu.: 401.4   Yes:1869  \n",
       " Median :1397.5             \n",
       " Mean   :2283.3             \n",
       " 3rd Qu.:3794.7             \n",
       " Max.   :8684.8             \n",
       " NA's   :11                 "
      ]
     },
     "metadata": {},
     "output_type": "display_data"
    }
   ],
   "source": [
    "summary(churn)"
   ]
  },
  {
   "cell_type": "code",
   "execution_count": 169,
   "metadata": {},
   "outputs": [],
   "source": [
    "#Écarter les observations ayant des valeurs manquantes\n",
    "churn_complete <- na.omit(churn)"
   ]
  },
  {
   "cell_type": "code",
   "execution_count": 170,
   "metadata": {},
   "outputs": [
    {
     "name": "stdout",
     "output_type": "stream",
     "text": [
      "'data.frame':\t7032 obs. of  21 variables:\n",
      " $ customerID      : Factor w/ 7043 levels \"0002-ORFBO\",\"0003-MKNFE\",..: 5376 3963 2565 5536 6512 6552 1003 4771 5605 4535 ...\n",
      " $ gender          : Factor w/ 2 levels \"Female\",\"Male\": 1 2 2 2 1 1 2 1 1 2 ...\n",
      " $ SeniorCitizen   : int  0 0 0 0 0 0 0 0 0 0 ...\n",
      " $ Partner         : Factor w/ 2 levels \"No\",\"Yes\": 2 1 1 1 1 1 1 1 2 1 ...\n",
      " $ Dependents      : Factor w/ 2 levels \"No\",\"Yes\": 1 1 1 1 1 1 2 1 1 2 ...\n",
      " $ tenure          : int  1 34 2 45 2 8 22 10 28 62 ...\n",
      " $ PhoneService    : Factor w/ 2 levels \"No\",\"Yes\": 1 2 2 1 2 2 2 1 2 2 ...\n",
      " $ MultipleLines   : Factor w/ 3 levels \"No\",\"No phone service\",..: 2 1 1 2 1 3 3 2 3 1 ...\n",
      " $ InternetService : Factor w/ 3 levels \"DSL\",\"Fiber optic\",..: 1 1 1 1 2 2 2 1 2 1 ...\n",
      " $ OnlineSecurity  : Factor w/ 3 levels \"No\",\"No internet service\",..: 1 3 3 3 1 1 1 3 1 3 ...\n",
      " $ OnlineBackup    : Factor w/ 3 levels \"No\",\"No internet service\",..: 3 1 3 1 1 1 3 1 1 3 ...\n",
      " $ DeviceProtection: Factor w/ 3 levels \"No\",\"No internet service\",..: 1 3 1 3 1 3 1 1 3 1 ...\n",
      " $ TechSupport     : Factor w/ 3 levels \"No\",\"No internet service\",..: 1 1 1 3 1 1 1 1 3 1 ...\n",
      " $ StreamingTV     : Factor w/ 3 levels \"No\",\"No internet service\",..: 1 1 1 1 1 3 3 1 3 1 ...\n",
      " $ StreamingMovies : Factor w/ 3 levels \"No\",\"No internet service\",..: 1 1 1 1 1 3 1 1 3 1 ...\n",
      " $ Contract        : Factor w/ 3 levels \"Month-to-month\",..: 1 2 1 2 1 1 1 1 1 2 ...\n",
      " $ PaperlessBilling: Factor w/ 2 levels \"No\",\"Yes\": 2 1 2 1 2 2 2 1 2 1 ...\n",
      " $ PaymentMethod   : Factor w/ 4 levels \"Bank transfer (automatic)\",..: 3 4 4 1 3 3 2 4 3 1 ...\n",
      " $ MonthlyCharges  : num  29.9 57 53.9 42.3 70.7 ...\n",
      " $ TotalCharges    : num  29.9 1889.5 108.2 1840.8 151.7 ...\n",
      " $ Churn           : Factor w/ 2 levels \"No\",\"Yes\": 1 1 2 1 2 2 1 1 2 1 ...\n",
      " - attr(*, \"na.action\")= 'omit' Named int  489 754 937 1083 1341 3332 3827 4381 5219 6671 ...\n",
      "  ..- attr(*, \"names\")= chr  \"489\" \"754\" \"937\" \"1083\" ...\n"
     ]
    }
   ],
   "source": [
    "str(churn_complete)"
   ]
  },
  {
   "cell_type": "markdown",
   "metadata": {},
   "source": [
    "**apres qu'on a écarter les observations ayant des valeurs manquantes on a obtenu 7032 observation au lieu de 7043**"
   ]
  },
  {
   "cell_type": "code",
   "execution_count": 175,
   "metadata": {},
   "outputs": [],
   "source": [
    "#Changer le type de SeniorCitizen à « Factor »\n",
    "churn_complete$SeniorCitizen <- factor(churn_complete$SeniorCitizen, levels=c(0,1),labels = c(\"No\",\"Yes\"))"
   ]
  },
  {
   "cell_type": "markdown",
   "metadata": {},
   "source": [
    "Il est préférable d’écarter la variable customerID lors de la création des échantillons"
   ]
  },
  {
   "cell_type": "code",
   "execution_count": 177,
   "metadata": {
    "scrolled": false
   },
   "outputs": [
    {
     "name": "stdout",
     "output_type": "stream",
     "text": [
      "'data.frame':\t7032 obs. of  20 variables:\n",
      " $ gender          : Factor w/ 2 levels \"Female\",\"Male\": 1 2 2 2 1 1 2 1 1 2 ...\n",
      " $ SeniorCitizen   : Factor w/ 2 levels \"No\",\"Yes\": 1 1 1 1 1 1 1 1 1 1 ...\n",
      " $ Partner         : Factor w/ 2 levels \"No\",\"Yes\": 2 1 1 1 1 1 1 1 2 1 ...\n",
      " $ Dependents      : Factor w/ 2 levels \"No\",\"Yes\": 1 1 1 1 1 1 2 1 1 2 ...\n",
      " $ tenure          : int  1 34 2 45 2 8 22 10 28 62 ...\n",
      " $ PhoneService    : Factor w/ 2 levels \"No\",\"Yes\": 1 2 2 1 2 2 2 1 2 2 ...\n",
      " $ MultipleLines   : Factor w/ 3 levels \"No\",\"No phone service\",..: 2 1 1 2 1 3 3 2 3 1 ...\n",
      " $ InternetService : Factor w/ 3 levels \"DSL\",\"Fiber optic\",..: 1 1 1 1 2 2 2 1 2 1 ...\n",
      " $ OnlineSecurity  : Factor w/ 3 levels \"No\",\"No internet service\",..: 1 3 3 3 1 1 1 3 1 3 ...\n",
      " $ OnlineBackup    : Factor w/ 3 levels \"No\",\"No internet service\",..: 3 1 3 1 1 1 3 1 1 3 ...\n",
      " $ DeviceProtection: Factor w/ 3 levels \"No\",\"No internet service\",..: 1 3 1 3 1 3 1 1 3 1 ...\n",
      " $ TechSupport     : Factor w/ 3 levels \"No\",\"No internet service\",..: 1 1 1 3 1 1 1 1 3 1 ...\n",
      " $ StreamingTV     : Factor w/ 3 levels \"No\",\"No internet service\",..: 1 1 1 1 1 3 3 1 3 1 ...\n",
      " $ StreamingMovies : Factor w/ 3 levels \"No\",\"No internet service\",..: 1 1 1 1 1 3 1 1 3 1 ...\n",
      " $ Contract        : Factor w/ 3 levels \"Month-to-month\",..: 1 2 1 2 1 1 1 1 1 2 ...\n",
      " $ PaperlessBilling: Factor w/ 2 levels \"No\",\"Yes\": 2 1 2 1 2 2 2 1 2 1 ...\n",
      " $ PaymentMethod   : Factor w/ 4 levels \"Bank transfer (automatic)\",..: 3 4 4 1 3 3 2 4 3 1 ...\n",
      " $ MonthlyCharges  : num  29.9 57 53.9 42.3 70.7 ...\n",
      " $ TotalCharges    : num  29.9 1889.5 108.2 1840.8 151.7 ...\n",
      " $ Churn           : Factor w/ 2 levels \"No\",\"Yes\": 1 1 2 1 2 2 1 1 2 1 ...\n"
     ]
    }
   ],
   "source": [
    "churn_complete <- churn_complete[,-1]\n",
    "str (churn_complete)"
   ]
  },
  {
   "cell_type": "markdown",
   "metadata": {},
   "source": [
    "**On divise le dataset en deux échantillons: apprentissage et test**"
   ]
  },
  {
   "cell_type": "code",
   "execution_count": 178,
   "metadata": {},
   "outputs": [
    {
     "data": {
      "text/html": [
       "7032"
      ],
      "text/latex": [
       "7032"
      ],
      "text/markdown": [
       "7032"
      ],
      "text/plain": [
       "[1] 7032"
      ]
     },
     "metadata": {},
     "output_type": "display_data"
    }
   ],
   "source": [
    "library(caret)\n",
    "\n",
    "indiceApprentisage <- createDataPartition(churn_complete$Churn,p=0.7,list=FALSE)\n",
    "churn_Apprentissage <- churn_complete[indiceApprentisage,]\n",
    "churn_test <- churn_complete[-indiceApprentisage,]\n",
    "nrow(churn_complete)"
   ]
  },
  {
   "cell_type": "code",
   "execution_count": 179,
   "metadata": {},
   "outputs": [
    {
     "data": {
      "text/html": [
       "4924"
      ],
      "text/latex": [
       "4924"
      ],
      "text/markdown": [
       "4924"
      ],
      "text/plain": [
       "[1] 4924"
      ]
     },
     "metadata": {},
     "output_type": "display_data"
    }
   ],
   "source": [
    "nrow(churn_Apprentissage)"
   ]
  },
  {
   "cell_type": "code",
   "execution_count": 180,
   "metadata": {},
   "outputs": [
    {
     "data": {
      "text/html": [
       "2108"
      ],
      "text/latex": [
       "2108"
      ],
      "text/markdown": [
       "2108"
      ],
      "text/plain": [
       "[1] 2108"
      ]
     },
     "metadata": {},
     "output_type": "display_data"
    }
   ],
   "source": [
    "nrow(churn_test)"
   ]
  },
  {
   "cell_type": "markdown",
   "metadata": {},
   "source": [
    "<h2>RPART<h2>"
   ]
  },
  {
   "cell_type": "code",
   "execution_count": 182,
   "metadata": {},
   "outputs": [],
   "source": [
    "library(rpart)"
   ]
  },
  {
   "cell_type": "code",
   "execution_count": 183,
   "metadata": {},
   "outputs": [],
   "source": [
    "rpart_churn <- rpart(Churn~., method=\"class\",data=churn_Apprentissage)"
   ]
  },
  {
   "cell_type": "markdown",
   "metadata": {},
   "source": [
    "<h4>Tester le modèle sur l’échantillon test<h4>"
   ]
  },
  {
   "cell_type": "code",
   "execution_count": 184,
   "metadata": {},
   "outputs": [
    {
     "data": {
      "text/plain": [
       "       Réel\n",
       "predict   No  Yes\n",
       "    No  1447  345\n",
       "    Yes  101  215"
      ]
     },
     "metadata": {},
     "output_type": "display_data"
    }
   ],
   "source": [
    "\n",
    "churn_prediction <- predict(rpart_churn,churn_test,type=\"class\")\n",
    "table(predict=churn_prediction,Réel=churn_test$Churn)"
   ]
  },
  {
   "cell_type": "markdown",
   "metadata": {},
   "source": [
    "<h2> Calculer la précision du modèle<h2>"
   ]
  },
  {
   "cell_type": "code",
   "execution_count": 185,
   "metadata": {},
   "outputs": [
    {
     "data": {
      "text/html": [
       "0.78842504743833"
      ],
      "text/latex": [
       "0.78842504743833"
      ],
      "text/markdown": [
       "0.78842504743833"
      ],
      "text/plain": [
       "[1] 0.788425"
      ]
     },
     "metadata": {},
     "output_type": "display_data"
    }
   ],
   "source": [
    "tab <- table(churn_prediction,churn_test$Churn)\n",
    "accuracy <- sum(diag(tab))/sum(tab)\n",
    "accuracy"
   ]
  },
  {
   "cell_type": "markdown",
   "metadata": {},
   "source": [
    "<h3>Afficher la matrice de confusion<h3>"
   ]
  },
  {
   "cell_type": "code",
   "execution_count": 186,
   "metadata": {},
   "outputs": [
    {
     "name": "stderr",
     "output_type": "stream",
     "text": [
      "Updating HTML index of packages in '.Library'\n",
      "Making 'packages.html' ... done\n"
     ]
    }
   ],
   "source": [
    "install.packages('e1071', dependencies=TRUE)"
   ]
  },
  {
   "cell_type": "code",
   "execution_count": 187,
   "metadata": {},
   "outputs": [
    {
     "data": {
      "text/plain": [
       "Confusion Matrix and Statistics\n",
       "\n",
       "          Reference\n",
       "Prediction   No  Yes\n",
       "       No  1447  345\n",
       "       Yes  101  215\n",
       "                                          \n",
       "               Accuracy : 0.7884          \n",
       "                 95% CI : (0.7704, 0.8057)\n",
       "    No Information Rate : 0.7343          \n",
       "    P-Value [Acc > NIR] : 5.067e-09       \n",
       "                                          \n",
       "                  Kappa : 0.3702          \n",
       "                                          \n",
       " Mcnemar's Test P-Value : < 2.2e-16       \n",
       "                                          \n",
       "            Sensitivity : 0.9348          \n",
       "            Specificity : 0.3839          \n",
       "         Pos Pred Value : 0.8075          \n",
       "         Neg Pred Value : 0.6804          \n",
       "             Prevalence : 0.7343          \n",
       "         Detection Rate : 0.6864          \n",
       "   Detection Prevalence : 0.8501          \n",
       "      Balanced Accuracy : 0.6593          \n",
       "                                          \n",
       "       'Positive' Class : No              \n",
       "                                          "
      ]
     },
     "metadata": {},
     "output_type": "display_data"
    }
   ],
   "source": [
    "confusionMatrix(churn_prediction,churn_test$Churn)"
   ]
  },
  {
   "cell_type": "code",
   "execution_count": 111,
   "metadata": {},
   "outputs": [],
   "source": [
    "?confusionMatrix"
   ]
  },
  {
   "cell_type": "markdown",
   "metadata": {},
   "source": [
    "<h1> Random Forest <h1>"
   ]
  },
  {
   "cell_type": "code",
   "execution_count": 188,
   "metadata": {
    "scrolled": true
   },
   "outputs": [],
   "source": [
    "library(randomForest)"
   ]
  },
  {
   "cell_type": "markdown",
   "metadata": {},
   "source": [
    "Créer le modèle avec la fonction randomForest\n",
    "print('fait')"
   ]
  },
  {
   "cell_type": "code",
   "execution_count": 189,
   "metadata": {},
   "outputs": [],
   "source": [
    "rf_churn <- randomForest(Churn~.,data=churn_Apprentissage)"
   ]
  },
  {
   "cell_type": "markdown",
   "metadata": {},
   "source": [
    "<h3>Tester le modèle sur l’échantillon de test<h3>"
   ]
  },
  {
   "cell_type": "code",
   "execution_count": 190,
   "metadata": {},
   "outputs": [],
   "source": [
    "churn_prediction_rf <- predict(rf_churn,churn_test)"
   ]
  },
  {
   "cell_type": "code",
   "execution_count": 191,
   "metadata": {},
   "outputs": [
    {
     "data": {
      "text/plain": [
       "Confusion Matrix and Statistics\n",
       "\n",
       "          Reference\n",
       "Prediction   No  Yes\n",
       "       No  1388  278\n",
       "       Yes  160  282\n",
       "                                          \n",
       "               Accuracy : 0.7922          \n",
       "                 95% CI : (0.7743, 0.8094)\n",
       "    No Information Rate : 0.7343          \n",
       "    P-Value [Acc > NIR] : 4.020e-10       \n",
       "                                          \n",
       "                  Kappa : 0.4291          \n",
       "                                          \n",
       " Mcnemar's Test P-Value : 2.264e-08       \n",
       "                                          \n",
       "            Sensitivity : 0.8966          \n",
       "            Specificity : 0.5036          \n",
       "         Pos Pred Value : 0.8331          \n",
       "         Neg Pred Value : 0.6380          \n",
       "             Prevalence : 0.7343          \n",
       "         Detection Rate : 0.6584          \n",
       "   Detection Prevalence : 0.7903          \n",
       "      Balanced Accuracy : 0.7001          \n",
       "                                          \n",
       "       'Positive' Class : No              \n",
       "                                          "
      ]
     },
     "metadata": {},
     "output_type": "display_data"
    }
   ],
   "source": [
    "confusionMatrix(churn_prediction_rf,churn_test$Churn)"
   ]
  },
  {
   "cell_type": "markdown",
   "metadata": {},
   "source": [
    "<h3>Dans l'ensemble de données Churn, la grande majorité des observations appartiennent à la même classe qui ce qui affecte notre modèle et le rendre peu intelligent et par consequent prédira toujours la classe dominante.<h3>"
   ]
  },
  {
   "cell_type": "code",
   "execution_count": 192,
   "metadata": {},
   "outputs": [
    {
     "data": {
      "text/plain": [
       "\n",
       "       No       Yes \n",
       "0.7341592 0.2658408 "
      ]
     },
     "metadata": {},
     "output_type": "display_data"
    }
   ],
   "source": [
    "prop.table(table(churn_Apprentissage$Churn))"
   ]
  },
  {
   "cell_type": "markdown",
   "metadata": {},
   "source": [
    "<h1>Stratégies d’échantillonnage<h1>"
   ]
  },
  {
   "cell_type": "markdown",
   "metadata": {},
   "source": [
    "Une technique consiste tout simplement à rééquilibrer votre jeu de données. Soit en faisant de l’**undersampling**, en enlevant des données de la classe majoritaire, soit en faisant de l’**oversampling**, en rajoutant des nouvelles données dans la classe minoritaire."
   ]
  },
  {
   "cell_type": "markdown",
   "metadata": {},
   "source": [
    "<h2> undersampling <h2>"
   ]
  },
  {
   "cell_type": "markdown",
   "metadata": {},
   "source": [
    "On a choisi la Strategie d'echantillonnage undersampling,tous simplement par ce que c'est plus simple \n",
    "de supprimer des données que d’en rajouter.\n",
    "\n",
    "Mais aussi on a des avantages par ce que le sous-échantillonnage peut aider à améliorer le temps d'exécution et les problèmes de stockage en réduisant le nombre d'échantillons de données de formation lorsque l'ensemble de données de formation est énorme.\n",
    "\n",
    "Mais attention on peut perdre des informations utiles et biaisé notre modele."
   ]
  },
  {
   "cell_type": "code",
   "execution_count": 193,
   "metadata": {},
   "outputs": [
    {
     "data": {
      "text/plain": [
       "\n",
       "      No      Yes \n",
       "0.734215 0.265785 "
      ]
     },
     "metadata": {},
     "output_type": "display_data"
    }
   ],
   "source": [
    "prop.table(table(churn_complete$Churn))"
   ]
  },
  {
   "cell_type": "code",
   "execution_count": 194,
   "metadata": {},
   "outputs": [
    {
     "data": {
      "image/png": "[encoded data removed]",
      "text/plain": [
       "Plot with title “Churn or Not”"
      ]
     },
     "metadata": {},
     "output_type": "display_data"
    }
   ],
   "source": [
    "labels <- c(\"no Churn\", \"Churn\")\n",
    "labels <- paste(labels, round(100*prop.table(table(churn_complete$Churn)), 2))\n",
    "labels <- paste0(labels, \"%\")\n",
    "pie(table(churn_complete$Churn),labels,col=c(\"green\",\"red\"),main = \"Churn or Not\")"
   ]
  },
  {
   "cell_type": "code",
   "execution_count": 195,
   "metadata": {},
   "outputs": [
    {
     "data": {
      "text/plain": [
       "\n",
       "       No       Yes \n",
       "0.7341592 0.2658408 "
      ]
     },
     "metadata": {},
     "output_type": "display_data"
    }
   ],
   "source": [
    "prop.table(table(churn_Apprentissage$Churn))"
   ]
  },
  {
   "cell_type": "code",
   "execution_count": 196,
   "metadata": {},
   "outputs": [
    {
     "name": "stderr",
     "output_type": "stream",
     "text": [
      "Updating HTML index of packages in '.Library'\n",
      "Making 'packages.html' ... done\n",
      "Updating HTML index of packages in '.Library'\n",
      "Making 'packages.html' ... done\n"
     ]
    }
   ],
   "source": [
    "install.packages(\"doParallel\")\n",
    "install.packages(\"ROSE\")"
   ]
  },
  {
   "cell_type": "code",
   "execution_count": 197,
   "metadata": {},
   "outputs": [],
   "source": [
    "library(doParallel)\n",
    "library(ROSE)\n"
   ]
  },
  {
   "cell_type": "code",
   "execution_count": 198,
   "metadata": {},
   "outputs": [
    {
     "data": {
      "text/plain": [
       "\n",
       "  No  Yes \n",
       "1309 1309 "
      ]
     },
     "metadata": {},
     "output_type": "display_data"
    }
   ],
   "source": [
    "churn_under <- ovun.sample(Churn~., data=churn_Apprentissage, method=\"under\", N=2618)$data\n",
    "table(churn_under$Churn)"
   ]
  },
  {
   "cell_type": "code",
   "execution_count": 199,
   "metadata": {
    "scrolled": false
   },
   "outputs": [
    {
     "data": {
      "text/plain": [
       "\n",
       " No Yes \n",
       "0.5 0.5 "
      ]
     },
     "metadata": {},
     "output_type": "display_data"
    }
   ],
   "source": [
    "prop.table(table(churn_under$Churn))"
   ]
  },
  {
   "cell_type": "code",
   "execution_count": 200,
   "metadata": {},
   "outputs": [
    {
     "data": {
      "image/png": "[encoded data removed]",
      "text/plain": [
       "Plot with title “Churn or Not”"
      ]
     },
     "metadata": {},
     "output_type": "display_data"
    }
   ],
   "source": [
    "labels <- c(\"no Churn\", \"Churn\")\n",
    "labels <- paste(labels, round(100*prop.table(table(churn_under$Churn)), 2))\n",
    "labels <- paste0(labels, \"%\")\n",
    "pie(table(churn_under$Churn),labels,col=c(\"green\",\"red\"),main = \"Churn or Not\")"
   ]
  },
  {
   "cell_type": "code",
   "execution_count": 201,
   "metadata": {},
   "outputs": [
    {
     "data": {
      "text/plain": [
       "    gender     SeniorCitizen Partner    Dependents     tenure      PhoneService\n",
       " Female:1321   No :2121      No :1456   No :1923   Min.   : 1.00   No : 257    \n",
       " Male  :1297   Yes: 497      Yes:1162   Yes: 695   1st Qu.: 5.00   Yes:2361    \n",
       "                                                   Median :21.00               \n",
       "                                                   Mean   :27.57               \n",
       "                                                   3rd Qu.:48.75               \n",
       "                                                   Max.   :72.00               \n",
       "          MultipleLines     InternetService             OnlineSecurity\n",
       " No              :1264   DSL        : 819   No                 :1522  \n",
       " No phone service: 257   Fiber optic:1351   No internet service: 448  \n",
       " Yes             :1097   No         : 448   Yes                : 648  \n",
       "                                                                      \n",
       "                                                                      \n",
       "                                                                      \n",
       "              OnlineBackup             DeviceProtection\n",
       " No                 :1306   No                 :1324   \n",
       " No internet service: 448   No internet service: 448   \n",
       " Yes                : 864   Yes                : 846   \n",
       "                                                       \n",
       "                                                       \n",
       "                                                       \n",
       "              TechSupport                StreamingTV  \n",
       " No                 :1537   No                 :1132  \n",
       " No internet service: 448   No internet service: 448  \n",
       " Yes                : 633   Yes                :1038  \n",
       "                                                      \n",
       "                                                      \n",
       "                                                      \n",
       "            StreamingMovies           Contract    PaperlessBilling\n",
       " No                 :1131   Month-to-month:1723   No : 952        \n",
       " No internet service: 448   One year      : 432   Yes:1666        \n",
       " Yes                :1039   Two year      : 463                   \n",
       "                                                                  \n",
       "                                                                  \n",
       "                                                                  \n",
       "                   PaymentMethod  MonthlyCharges    TotalCharges     Churn     \n",
       " Bank transfer (automatic): 507   Min.   : 18.70   Min.   :  18.85   No :1309  \n",
       " Credit card (automatic)  : 474   1st Qu.: 45.06   1st Qu.: 265.38   Yes:1309  \n",
       " Electronic check         :1071   Median : 74.40   Median :1106.33             \n",
       " Mailed check             : 566   Mean   : 67.39   Mean   :2015.46             \n",
       "                                  3rd Qu.: 90.69   3rd Qu.:3204.59             \n",
       "                                  Max.   :118.75   Max.   :8684.80             "
      ]
     },
     "metadata": {},
     "output_type": "display_data"
    }
   ],
   "source": [
    "summary(churn_under)"
   ]
  },
  {
   "cell_type": "markdown",
   "metadata": {},
   "source": [
    "<h2>rpart<h2>"
   ]
  },
  {
   "cell_type": "code",
   "execution_count": 202,
   "metadata": {},
   "outputs": [
    {
     "data": {
      "text/plain": [
       "\n",
       "       No       Yes \n",
       "0.7464558 0.2535442 "
      ]
     },
     "metadata": {},
     "output_type": "display_data"
    }
   ],
   "source": [
    "indiceApprentisage <- createDataPartition(churn_under$Churn,p=0.7,list=FALSE)\n",
    "churn_Apprentissage <- churn_complete[indiceApprentisage,]\n",
    "churn_test <- churn_under[-indiceApprentisage,]\n",
    "prop.table(table(churn_Apprentissage$Churn))\n",
    "\n",
    "#ici normalement on doit pas avoir ce desiquilibrage"
   ]
  },
  {
   "cell_type": "code",
   "execution_count": 203,
   "metadata": {},
   "outputs": [],
   "source": [
    "rpart_churn <- rpart(Churn~., method=\"class\",data=churn_Apprentissage)"
   ]
  },
  {
   "cell_type": "code",
   "execution_count": 204,
   "metadata": {},
   "outputs": [
    {
     "data": {
      "text/plain": [
       "       Réel\n",
       "predict  No Yes\n",
       "    No  360 197\n",
       "    Yes  32 195"
      ]
     },
     "metadata": {},
     "output_type": "display_data"
    }
   ],
   "source": [
    "churn_prediction <- predict(rpart_churn,churn_test,type=\"class\")\n",
    "table(predict=churn_prediction,Réel=churn_test$Churn)"
   ]
  },
  {
   "cell_type": "code",
   "execution_count": 205,
   "metadata": {},
   "outputs": [
    {
     "data": {
      "text/html": [
       "0.707908163265306"
      ],
      "text/latex": [
       "0.707908163265306"
      ],
      "text/markdown": [
       "0.707908163265306"
      ],
      "text/plain": [
       "[1] 0.7079082"
      ]
     },
     "metadata": {},
     "output_type": "display_data"
    }
   ],
   "source": [
    "tab <- table(churn_prediction,churn_test$Churn)\n",
    "accuracy <- sum(diag(tab))/sum(tab)\n",
    "accuracy"
   ]
  },
  {
   "cell_type": "code",
   "execution_count": 206,
   "metadata": {
    "scrolled": true
   },
   "outputs": [
    {
     "data": {
      "text/plain": [
       "Confusion Matrix and Statistics\n",
       "\n",
       "          Reference\n",
       "Prediction  No Yes\n",
       "       No  360 197\n",
       "       Yes  32 195\n",
       "                                          \n",
       "               Accuracy : 0.7079          \n",
       "                 95% CI : (0.6747, 0.7395)\n",
       "    No Information Rate : 0.5             \n",
       "    P-Value [Acc > NIR] : < 2.2e-16       \n",
       "                                          \n",
       "                  Kappa : 0.4158          \n",
       "                                          \n",
       " Mcnemar's Test P-Value : < 2.2e-16       \n",
       "                                          \n",
       "            Sensitivity : 0.9184          \n",
       "            Specificity : 0.4974          \n",
       "         Pos Pred Value : 0.6463          \n",
       "         Neg Pred Value : 0.8590          \n",
       "             Prevalence : 0.5000          \n",
       "         Detection Rate : 0.4592          \n",
       "   Detection Prevalence : 0.7105          \n",
       "      Balanced Accuracy : 0.7079          \n",
       "                                          \n",
       "       'Positive' Class : No              \n",
       "                                          "
      ]
     },
     "metadata": {},
     "output_type": "display_data"
    }
   ],
   "source": [
    "confusionMatrix(churn_prediction,churn_test$Churn)"
   ]
  },
  {
   "cell_type": "markdown",
   "metadata": {},
   "source": [
    "<h3>randomForest<h3>"
   ]
  },
  {
   "cell_type": "code",
   "execution_count": 207,
   "metadata": {},
   "outputs": [
    {
     "data": {
      "text/plain": [
       "Confusion Matrix and Statistics\n",
       "\n",
       "          Reference\n",
       "Prediction  No Yes\n",
       "       No  357 157\n",
       "       Yes  35 235\n",
       "                                          \n",
       "               Accuracy : 0.7551          \n",
       "                 95% CI : (0.7234, 0.7848)\n",
       "    No Information Rate : 0.5             \n",
       "    P-Value [Acc > NIR] : < 2.2e-16       \n",
       "                                          \n",
       "                  Kappa : 0.5102          \n",
       "                                          \n",
       " Mcnemar's Test P-Value : < 2.2e-16       \n",
       "                                          \n",
       "            Sensitivity : 0.9107          \n",
       "            Specificity : 0.5995          \n",
       "         Pos Pred Value : 0.6946          \n",
       "         Neg Pred Value : 0.8704          \n",
       "             Prevalence : 0.5000          \n",
       "         Detection Rate : 0.4554          \n",
       "   Detection Prevalence : 0.6556          \n",
       "      Balanced Accuracy : 0.7551          \n",
       "                                          \n",
       "       'Positive' Class : No              \n",
       "                                          "
      ]
     },
     "metadata": {},
     "output_type": "display_data"
    }
   ],
   "source": [
    "library(randomForest)\n",
    "rf_churn <- randomForest(Churn~.,data=churn_Apprentissage)\n",
    "churn_prediction_rf <- predict(rf_churn,churn_test)\n",
    "confusionMatrix(churn_prediction_rf,churn_test$Churn)"
   ]
  },
  {
   "cell_type": "markdown",
   "metadata": {},
   "source": [
    "**On remarque que la prévision de notre modèle a été augmenté en utilisant undersampling avec randomForest\n",
    "mais par contre rpart a ffaibli notre précision**"
   ]
  },
  {
   "cell_type": "markdown",
   "metadata": {},
   "source": [
    "<h2>oversampling<h2>"
   ]
  },
  {
   "cell_type": "markdown",
   "metadata": {},
   "source": [
    "**Les avantages**\n",
    "Contrairement au sous-échantillonnage, cette méthode n'entraîne aucune perte d'informations.\n",
    "Surperforme sous échantillonnage.\n",
    "\n",
    "**les inconvénients**\n",
    "Il augmente la probabilité de sur-ajustement car il reproduit les événements de classe minoritaire.\n",
    " "
   ]
  },
  {
   "cell_type": "code",
   "execution_count": 208,
   "metadata": {},
   "outputs": [
    {
     "name": "stderr",
     "output_type": "stream",
     "text": [
      "Updating HTML index of packages in '.Library'\n",
      "Making 'packages.html' ... done\n",
      "Updating HTML index of packages in '.Library'\n",
      "Making 'packages.html' ... done\n"
     ]
    }
   ],
   "source": [
    "install.packages(\"doParallel\")\n",
    "install.packages(\"ROSE\")\n",
    "library(doParallel)\n",
    "library(ROSE)"
   ]
  },
  {
   "cell_type": "markdown",
   "metadata": {},
   "source": [
    "initialisation des indice d'apprentissage"
   ]
  },
  {
   "cell_type": "code",
   "execution_count": 209,
   "metadata": {},
   "outputs": [
    {
     "data": {
      "text/html": [
       "7032"
      ],
      "text/latex": [
       "7032"
      ],
      "text/markdown": [
       "7032"
      ],
      "text/plain": [
       "[1] 7032"
      ]
     },
     "metadata": {},
     "output_type": "display_data"
    }
   ],
   "source": [
    "\n",
    "indiceApprentisage <- createDataPartition(churn_complete$Churn,p=0.7,list=FALSE)\n",
    "churn_Apprentissage <- churn_complete[indiceApprentisage,]\n",
    "churn_test <- churn_complete[-indiceApprentisage,]\n",
    "nrow(churn_complete)"
   ]
  },
  {
   "cell_type": "code",
   "execution_count": 210,
   "metadata": {},
   "outputs": [
    {
     "data": {
      "text/plain": [
       "\n",
       "  No  Yes \n",
       "3615 3615 "
      ]
     },
     "metadata": {},
     "output_type": "display_data"
    }
   ],
   "source": [
    "churn_over <- ROSE::ovun.sample(Churn~., data=churn_Apprentissage, method=\"over\", N=7230)$data\n",
    "table(churn_over$Churn)\n"
   ]
  },
  {
   "cell_type": "code",
   "execution_count": 211,
   "metadata": {},
   "outputs": [
    {
     "data": {
      "text/plain": [
       "    gender     SeniorCitizen Partner    Dependents     tenure      PhoneService\n",
       " Female:3614   No :5839      No :4006   No :5339   Min.   : 1.00   No : 644    \n",
       " Male  :3616   Yes:1391      Yes:3224   Yes:1891   1st Qu.: 5.00   Yes:6586    \n",
       "                                                   Median :22.00               \n",
       "                                                   Mean   :28.01               \n",
       "                                                   3rd Qu.:50.00               \n",
       "                                                   Max.   :72.00               \n",
       "          MultipleLines     InternetService             OnlineSecurity\n",
       " No              :3451   DSL        :2197   No                 :4226  \n",
       " No phone service: 644   Fiber optic:3818   No internet service:1215  \n",
       " Yes             :3135   No         :1215   Yes                :1789  \n",
       "                                                                      \n",
       "                                                                      \n",
       "                                                                      \n",
       "              OnlineBackup             DeviceProtection\n",
       " No                 :3689   No                 :3681   \n",
       " No internet service:1215   No internet service:1215   \n",
       " Yes                :2326   Yes                :2334   \n",
       "                                                       \n",
       "                                                       \n",
       "                                                       \n",
       "              TechSupport                StreamingTV  \n",
       " No                 :4207   No                 :3084  \n",
       " No internet service:1215   No internet service:1215  \n",
       " Yes                :1808   Yes                :2931  \n",
       "                                                      \n",
       "                                                      \n",
       "                                                      \n",
       "            StreamingMovies           Contract    PaperlessBilling\n",
       " No                 :3103   Month-to-month:4741   No :2566        \n",
       " No internet service:1215   One year      :1234   Yes:4664        \n",
       " Yes                :2912   Two year      :1255                   \n",
       "                                                                  \n",
       "                                                                  \n",
       "                                                                  \n",
       "                   PaymentMethod  MonthlyCharges    TotalCharges    Churn     \n",
       " Bank transfer (automatic):1385   Min.   : 18.25   Min.   :  18.8   No :3615  \n",
       " Credit card (automatic)  :1339   1st Qu.: 45.65   1st Qu.: 280.9   Yes:3615  \n",
       " Electronic check         :3015   Median : 74.90   Median :1173.0             \n",
       " Mailed check             :1491   Mean   : 68.13   Mean   :2063.8             \n",
       "                                  3rd Qu.: 90.80   3rd Qu.:3272.7             \n",
       "                                  Max.   :118.75   Max.   :8684.8             "
      ]
     },
     "metadata": {},
     "output_type": "display_data"
    }
   ],
   "source": [
    "summary(churn_over)\n",
    "#Apres l’exécution de la commande rose, on remarque qu'on a des nouveaux données ajoutés ,\n",
    "#aussi on remarque que l'intervale ontre le min et le max a eté changé"
   ]
  },
  {
   "cell_type": "markdown",
   "metadata": {},
   "source": [
    "<h3>Rpart<h3>"
   ]
  },
  {
   "cell_type": "code",
   "execution_count": 212,
   "metadata": {},
   "outputs": [],
   "source": [
    "rpart_churn <- rpart(Churn~., method=\"class\",data=churn_over)"
   ]
  },
  {
   "cell_type": "code",
   "execution_count": 213,
   "metadata": {},
   "outputs": [
    {
     "data": {
      "text/plain": [
       "       Réel\n",
       "predict   No  Yes\n",
       "    No  1133  133\n",
       "    Yes  415  427"
      ]
     },
     "metadata": {},
     "output_type": "display_data"
    }
   ],
   "source": [
    "churn_prediction <- predict(rpart_churn,churn_test,type=\"class\")\n",
    "table(predict=churn_prediction,Réel=churn_test$Churn)"
   ]
  },
  {
   "cell_type": "code",
   "execution_count": 214,
   "metadata": {},
   "outputs": [
    {
     "data": {
      "text/html": [
       "0.740037950664137"
      ],
      "text/latex": [
       "0.740037950664137"
      ],
      "text/markdown": [
       "0.740037950664137"
      ],
      "text/plain": [
       "[1] 0.740038"
      ]
     },
     "metadata": {},
     "output_type": "display_data"
    }
   ],
   "source": [
    "tab <- table(churn_prediction,churn_test$Churn)\n",
    "accuracy <- sum(diag(tab))/sum(tab)\n",
    "accuracy"
   ]
  },
  {
   "cell_type": "code",
   "execution_count": 215,
   "metadata": {
    "scrolled": true
   },
   "outputs": [
    {
     "data": {
      "text/plain": [
       "Confusion Matrix and Statistics\n",
       "\n",
       "          Reference\n",
       "Prediction   No  Yes\n",
       "       No  1133  133\n",
       "       Yes  415  427\n",
       "                                          \n",
       "               Accuracy : 0.74            \n",
       "                 95% CI : (0.7208, 0.7587)\n",
       "    No Information Rate : 0.7343          \n",
       "    P-Value [Acc > NIR] : 0.2862          \n",
       "                                          \n",
       "                  Kappa : 0.426           \n",
       "                                          \n",
       " Mcnemar's Test P-Value : <2e-16          \n",
       "                                          \n",
       "            Sensitivity : 0.7319          \n",
       "            Specificity : 0.7625          \n",
       "         Pos Pred Value : 0.8949          \n",
       "         Neg Pred Value : 0.5071          \n",
       "             Prevalence : 0.7343          \n",
       "         Detection Rate : 0.5375          \n",
       "   Detection Prevalence : 0.6006          \n",
       "      Balanced Accuracy : 0.7472          \n",
       "                                          \n",
       "       'Positive' Class : No              \n",
       "                                          "
      ]
     },
     "metadata": {},
     "output_type": "display_data"
    }
   ],
   "source": [
    "confusionMatrix(churn_prediction,churn_test$Churn)"
   ]
  },
  {
   "cell_type": "markdown",
   "metadata": {},
   "source": [
    "<h3>randomForest<h3>"
   ]
  },
  {
   "cell_type": "code",
   "execution_count": 216,
   "metadata": {},
   "outputs": [
    {
     "data": {
      "text/plain": [
       "Confusion Matrix and Statistics\n",
       "\n",
       "          Reference\n",
       "Prediction   No  Yes\n",
       "       No  1278  219\n",
       "       Yes  270  341\n",
       "                                          \n",
       "               Accuracy : 0.768           \n",
       "                 95% CI : (0.7494, 0.7859)\n",
       "    No Information Rate : 0.7343          \n",
       "    P-Value [Acc > NIR] : 0.0002138       \n",
       "                                          \n",
       "                  Kappa : 0.4222          \n",
       "                                          \n",
       " Mcnemar's Test P-Value : 0.0237544       \n",
       "                                          \n",
       "            Sensitivity : 0.8256          \n",
       "            Specificity : 0.6089          \n",
       "         Pos Pred Value : 0.8537          \n",
       "         Neg Pred Value : 0.5581          \n",
       "             Prevalence : 0.7343          \n",
       "         Detection Rate : 0.6063          \n",
       "   Detection Prevalence : 0.7102          \n",
       "      Balanced Accuracy : 0.7173          \n",
       "                                          \n",
       "       'Positive' Class : No              \n",
       "                                          "
      ]
     },
     "metadata": {},
     "output_type": "display_data"
    }
   ],
   "source": [
    "\n",
    "rf_churn <- randomForest(Churn~.,data=churn_over)\n",
    "churn_prediction_rf <- predict(rf_churn,churn_test)\n",
    "confusionMatrix(churn_prediction_rf,churn_test$Churn)"
   ]
  },
  {
   "cell_type": "markdown",
   "metadata": {},
   "source": [
    "**Nous remarquons que l'algorithme oversampling a affaibli notre précision.**"
   ]
  },
  {
   "cell_type": "code",
   "execution_count": null,
   "metadata": {},
   "outputs": [],
   "source": []
  },
  {
   "cell_type": "markdown",
   "metadata": {},
   "source": [
    "<h2> Strategie Algorithmique - Random Forest avec ajustement des parametres<h2>"
   ]
  },
  {
   "cell_type": "markdown",
   "metadata": {},
   "source": [
    "Nous avons vu comment adapter nos données à nos modèles mais il est également possible de faire l’inverse et d’adapter nos modèles à nos données !\n",
    "\n",
    "Les meilleurs algorithmes pour traiter ce genre de problème sont les algorithmes de Boosting. Pour rappel, le principe du Boosting est de créer de manière itérative une succession d’arbres de décision dont chaque arbre va prédire l’erreur du précédent. Etant donné que les erreurs vont se concentrer principalement sur les classes minoritaires, les arbres vont par conséquent peu à peu se focaliser exclusivement sur la prédiction de ces cas marginaux."
   ]
  },
  {
   "cell_type": "code",
   "execution_count": null,
   "metadata": {},
   "outputs": [],
   "source": []
  }
 ],
 "metadata": {
  "kernelspec": {
   "display_name": "R",
   "language": "R",
   "name": "ir"
  },
  "language_info": {
   "codemirror_mode": "r",
   "file_extension": ".r",
   "mimetype": "text/x-r-source",
   "name": "R",
   "pygments_lexer": "r",
   "version": "3.6.1"
  }
 },
 "nbformat": 4,
 "nbformat_minor": 2
}
